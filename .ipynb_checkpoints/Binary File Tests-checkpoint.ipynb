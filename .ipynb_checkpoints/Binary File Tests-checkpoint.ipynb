{
 "cells": [
  {
   "cell_type": "markdown",
   "id": "fbf6a231",
   "metadata": {},
   "source": [
    "### Bloque  bitmap"
   ]
  },
  {
   "cell_type": "markdown",
   "id": "75c09d76",
   "metadata": {},
   "source": [
    "Los primeros 2048 bits indican si un bloque esta ocupado o no. Los siguientes bits del bloque deben ser 0."
   ]
  },
  {
   "cell_type": "code",
   "execution_count": 3,
   "id": "d225c19d",
   "metadata": {},
   "outputs": [
    {
     "name": "stdout",
     "output_type": "stream",
     "text": [
      "Bitmap: 11110000000000000000000110101000000001000001000000000000000000000010000001100010000000010000000010000000000000010000000000000000000000000001000000100000000001000001000000000000000000001001001000000000000000000000000000001100000000000000000000000000100000010000000000000000000000000100000000000100001000000000000000000000000000000001000000000110010000000000000010010000000000000000000000000000000000000000010000001000101000100000010000000000000000010000000000000000000000000000010000000000000100000000000000000000000000010000000000100000000000000010100000000000000010000010100000100000000000000100010000000000000000000000100000000000010000000000000001000000000000100000000000010000000001000000000000010000000000000000000000000000000000000010000100001000100010000000100100100000000000000000000000001000001000000000000000000000000000001000000001000000000000000000000000000000000001000010001000000010000000001000001000000100000000000000000000000100001000000000000010000011000000100000000000000000000100000000001000000101000000000000001000000000000101000000000000010000000100000000010000000000000000100110000001100000000000000000000000000000000000000000000000000010000000000000000000000100010000100000000000110000000010000000000000100000000000000000000010100000000000000000000000000000000000000000000000001000010000000001000000000100000000000000100000010000000000000000000000000000000000001000000100000001000010000000000000000010000000000000010000000000100010000000000100000000000000000000001000000000000001000000000010000000000000001000000000000010000000000000000011000000000000000000000001000110000100000010000000000000000000100000000000000000000000000000000000000000000000000001000000000000000001000000000000000000000000010000000000001001000000000000000000001000000000000000000000000000000000000000000000010000000000000000000000000000001000000000000000000000000000000000010000000000000010100000000000000000000000000000000000100000011000000000000000000100000100000000000010000100000000000000000010000000000000000000010000100101000000010000000000000001\n"
     ]
    }
   ],
   "source": [
    "from bitstring import ConstBitStream\n",
    "\n",
    "# read file\n",
    "b = ConstBitStream(filename='simdiskfilled.bin')\n",
    "\n",
    "string = \"\"\n",
    "for i in range(2048):\n",
    "    output = b.read(1) \n",
    "    string += str(output.uint)\n",
    "\n",
    "print(\"Bitmap:\", string)"
   ]
  },
  {
   "cell_type": "markdown",
   "id": "02c30650",
   "metadata": {},
   "source": [
    "Ahora chequeamos que todos los otros bits del bloque son 0, ya que no pertenencen al bit map."
   ]
  },
  {
   "cell_type": "code",
   "execution_count": 13,
   "id": "8fee308f",
   "metadata": {},
   "outputs": [
    {
     "name": "stdout",
     "output_type": "stream",
     "text": [
      "\n"
     ]
    }
   ],
   "source": [
    "string = \"\"\n",
    "for i in range(8*2*2048*256-2048): #cantidad de bit en un bloque menos los bits del bitmap\n",
    "    if str(output) != '0b0':\n",
    "        print(\"Error, no deberia haber nada acá\")\n",
    "\n",
    "print(string)"
   ]
  },
  {
   "cell_type": "markdown",
   "id": "0b42fc85",
   "metadata": {},
   "source": [
    "### Bloque  bitmap"
   ]
  },
  {
   "cell_type": "code",
   "execution_count": 18,
   "id": "d5dcf5af",
   "metadata": {},
   "outputs": [
    {
     "name": "stdout",
     "output_type": "stream",
     "text": [
      "Archivo:  b'message.txt\\x00\\x00\\x00\\x00\\x00\\x00\\x00\\x00\\x00\\x00\\x00\\x00\\x00\\x00\\x00\\x00'\n",
      "Archivo:  b'greatcat.mp4\\x00\\x00\\x00\\x00\\x00\\x00\\x00\\x00\\x00\\x00\\x00\\x00\\x00\\x00\\x00'\n",
      "Directorio:  b'dir1\\x00ta\\x00\\x00\\x00\\x00\\x00\\x00\\x00\\x00\\x00\\x00\\x00\\x00\\x00\\x00\\x00\\x00\\x00\\x00\\x00\\x00'\n",
      "Directorio:  b'carpeta\\x00\\x00\\x00\\x00\\x00\\x00\\x00\\x00\\x00\\x00\\x00\\x00\\x00\\x00\\x00\\x00\\x00\\x00\\x00\\x00'\n",
      "Directorio:  b'Redes\\x00a\\x00\\x00\\x00\\x00\\x00\\x00\\x00\\x00\\x00\\x00\\x00\\x00\\x00\\x00\\x00\\x00\\x00\\x00\\x00\\x00'\n",
      "Archivo:  b'facebook.png\\x00\\x00\\x00\\x00\\x00\\x00\\x00\\x00\\x00\\x00\\x00\\x00\\x00\\x00\\x00'\n",
      "Directorio:  b'ssoo\\x00\\x00a\\x00\\x00\\x00\\x00\\x00\\x00\\x00\\x00\\x00\\x00\\x00\\x00\\x00\\x00\\x00\\x00\\x00\\x00\\x00\\x00'\n"
     ]
    }
   ],
   "source": [
    "with open(\"simdiskfilled.bin\", \"rb\") as f:\n",
    "    _ = f.read(2*2048*256*3) #Saltarse los primeros tres bloques (ahora se leen bytes)\n",
    "\n",
    "    for i in range(int(2*2048*256/32)): # 2*2048*256/32 es la cantidad de posibles directorios.\n",
    "        valid = f.read(1)\n",
    "        pointer = f.read(4)\n",
    "        name_bytes = f.read(27)\n",
    "        if valid != b'\\x00':\n",
    "            if valid == b'\\x01':\n",
    "                print(\"Archivo: \", str(name_bytes))\n",
    "            if valid == b'\\x02':\n",
    "                print(\"Directorio: \", str(name_bytes))\n",
    "            "
   ]
  },
  {
   "cell_type": "code",
   "execution_count": null,
   "id": "7b2759f8",
   "metadata": {},
   "outputs": [],
   "source": []
  }
 ],
 "metadata": {
  "kernelspec": {
   "display_name": "Python 3 (ipykernel)",
   "language": "python",
   "name": "python3"
  },
  "language_info": {
   "codemirror_mode": {
    "name": "ipython",
    "version": 3
   },
   "file_extension": ".py",
   "mimetype": "text/x-python",
   "name": "python",
   "nbconvert_exporter": "python",
   "pygments_lexer": "ipython3",
   "version": "3.9.10"
  }
 },
 "nbformat": 4,
 "nbformat_minor": 5
}
